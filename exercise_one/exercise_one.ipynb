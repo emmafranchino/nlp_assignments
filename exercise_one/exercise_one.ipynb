{
 "cells": [
  {
   "cell_type": "markdown",
   "metadata": {},
   "source": [
    "# Exercise One"
   ]
  },
  {
   "cell_type": "markdown",
   "metadata": {},
   "source": [
    "Dependencies that need to be fulﬁlled to run the code:\n",
    "- re\n",
    "- spacy \n",
    "- en_core_web_sm and it_core_news_sm\n",
    "- collections and Counter\n",
    "- operator and itemgetter\n",
    "- matplotlib.pyplot "
   ]
  },
  {
   "cell_type": "markdown",
   "metadata": {},
   "source": [
    "### English poem"
   ]
  },
  {
   "cell_type": "code",
   "execution_count": 1,
   "metadata": {},
   "outputs": [],
   "source": [
    "myfile = open(\"english_poem.txt\", \"r\", encoding='utf-8')\n",
    "text_en = myfile.read()"
   ]
  },
  {
   "cell_type": "markdown",
   "metadata": {},
   "source": [
    "I open, in the read modality, decoding as utf-8 the file .txt where the poem \"The Raven\" is.\n",
    "I assign the variable \"text_en\" to the file that is being read, so to the content (the text) in it. "
   ]
  },
  {
   "cell_type": "code",
   "execution_count": 2,
   "metadata": {
    "tags": []
   },
   "outputs": [],
   "source": [
    "import re"
   ]
  },
  {
   "cell_type": "markdown",
   "metadata": {},
   "source": [
    "I import the module re to work with regular expressions."
   ]
  },
  {
   "cell_type": "code",
   "execution_count": 3,
   "metadata": {
    "tags": []
   },
   "outputs": [],
   "source": [
    "text_en_sub = re.sub(\"[^a-zA-Z]\", \" \", text_en.lower())"
   ]
  },
  {
   "cell_type": "markdown",
   "metadata": {},
   "source": [
    "Here, I substitute everything that is not letters between a-z with a space, in this way I can delete all the special characters such as underscore, new line commands and numbers). I also put the text in lowercase, so that we won't have two different words if one has a capital letter and the other doesn't. I assign the this operation the variable \"text_en_sub\"."
   ]
  },
  {
   "cell_type": "code",
   "execution_count": 4,
   "metadata": {},
   "outputs": [],
   "source": [
    "import spacy"
   ]
  },
  {
   "cell_type": "markdown",
   "metadata": {},
   "source": [
    "To later tokenize the text I import the library spacy."
   ]
  },
  {
   "cell_type": "code",
   "execution_count": 5,
   "metadata": {},
   "outputs": [],
   "source": [
    "import en_core_web_sm\n",
    "nlp = en_core_web_sm.load()"
   ]
  },
  {
   "cell_type": "markdown",
   "metadata": {},
   "source": [
    "I import and load the model \"en_core_web_sm\", to work with the English language. "
   ]
  },
  {
   "cell_type": "code",
   "execution_count": 6,
   "metadata": {
    "collapsed": true,
    "jupyter": {
     "outputs_hidden": true
    },
    "tags": []
   },
   "outputs": [
    {
     "name": "stdout",
     "output_type": "stream",
     "text": [
      "['the', 'raven', 'once', 'upon', 'a', 'midnight', 'dreary', 'while', 'i', 'pondered', 'weak', 'and', 'weary', 'over', 'many', 'a', 'quaint', 'and', 'curious', 'volume', 'of', 'forgotten', 'lore', 'while', 'i', 'nodded', 'nearly', 'napping', 'suddenly', 'there', 'came', 'a', 'tapping', 'as', 'of', 'some', 'one', 'gently', 'rapping', 'rapping', 'at', 'my', 'chamber', 'door', 't', 'is', 'some', 'visiter', 'i', 'muttered', 'tapping', 'at', 'my', 'chamber', 'door', 'only', 'this', 'and', 'nothing', 'more', 'ah', 'distinctly', 'i', 'remember', 'it', 'was', 'in', 'the', 'bleak', 'december', 'and', 'each', 'separate', 'dying', 'ember', 'wrought', 'its', 'ghost', 'upon', 'the', 'floor', 'eagerly', 'i', 'wished', 'the', 'morrow', 'vainly', 'i', 'had', 'sought', 'to', 'borrow', 'from', 'my', 'books', 'surcease', 'of', 'sorrow', 'sorrow', 'for', 'the', 'lost', 'lenore', 'for', 'the', 'rare', 'and', 'radiant', 'maiden', 'whom', 'the', 'angels', 'name', 'lenore', 'nameless', 'here', 'for', 'evermore', 'and', 'the', 'silken', 'sad', 'uncertain', 'rustling', 'of', 'each', 'purple', 'curtain', 'thrilled', 'me', 'filled', 'me', 'with', 'fantastic', 'terrors', 'never', 'felt', 'before', 'so', 'that', 'now', 'to', 'still', 'the', 'beating', 'of', 'my', 'heart', 'i', 'stood', 'repeating', 't', 'is', 'some', 'visiter', 'entreating', 'entrance', 'at', 'my', 'chamber', 'door', 'some', 'late', 'visiter', 'entreating', 'entrance', 'at', 'my', 'chamber', 'door', 'this', 'it', 'is', 'and', 'nothing', 'more', 'presently', 'my', 'soul', 'grew', 'stronger', 'hesitating', 'then', 'no', 'longer', 'sir', 'said', 'i', 'or', 'madam', 'truly', 'your', 'forgiveness', 'i', 'implore', 'but', 'the', 'fact', 'is', 'i', 'was', 'napping', 'and', 'so', 'gently', 'you', 'came', 'rapping', 'and', 'so', 'faintly', 'you', 'came', 'tapping', 'tapping', 'at', 'my', 'chamber', 'door', 'that', 'i', 'scarce', 'was', 'sure', 'i', 'heard', 'you', 'here', 'i', 'opened', 'wide', 'the', 'door', 'darkness', 'there', 'and', 'nothing', 'more', 'deep', 'into', 'that', 'darkness', 'peering', 'long', 'i', 'stood', 'there', 'wondering', 'fearing', 'doubting', 'dreaming', 'dreams', 'no', 'mortal', 'ever', 'dared', 'to', 'dream', 'before', 'but', 'the', 'silence', 'was', 'unbroken', 'and', 'the', 'darkness', 'gave', 'no', 'token', 'and', 'the', 'only', 'word', 'there', 'spoken', 'was', 'the', 'whispered', 'word', 'lenore', 'this', 'i', 'whispered', 'and', 'an', 'echo', 'murmured', 'back', 'the', 'word', 'lenore', 'merely', 'this', 'and', 'nothing', 'more', 'back', 'into', 'the', 'chamber', 'turning', 'all', 'my', 'soul', 'within', 'me', 'burning', 'soon', 'again', 'i', 'heard', 'a', 'tapping', 'somewhat', 'louder', 'than', 'before', 'surely', 'said', 'i', 'surely', 'that', 'is', 'something', 'at', 'my', 'window', 'lattice', 'let', 'me', 'see', 'then', 'what', 'thereat', 'is', 'and', 'this', 'mystery', 'explore', 'let', 'my', 'heart', 'be', 'still', 'a', 'moment', 'and', 'this', 'mystery', 'explore', 't', 'is', 'the', 'wind', 'and', 'nothing', 'more', 'open', 'here', 'i', 'flung', 'the', 'shutter', 'when', 'with', 'many', 'a', 'flirt', 'and', 'flutter', 'in', 'there', 'stepped', 'a', 'stately', 'raven', 'of', 'the', 'saintly', 'days', 'of', 'yore', 'not', 'the', 'least', 'obeisance', 'made', 'he', 'not', 'a', 'minute', 'stopped', 'or', 'stayed', 'he', 'but', 'with', 'mien', 'of', 'lord', 'or', 'lady', 'perched', 'above', 'my', 'chamber', 'door', 'perched', 'upon', 'a', 'bust', 'of', 'pallas', 'just', 'above', 'my', 'chamber', 'door', 'perched', 'and', 'sat', 'and', 'nothing', 'more', 'then', 'this', 'ebony', 'bird', 'beguiling', 'my', 'sad', 'fancy', 'into', 'smiling', 'by', 'the', 'grave', 'and', 'stern', 'decorum', 'of', 'the', 'countenance', 'it', 'wore', 'though', 'thy', 'crest', 'be', 'shorn', 'and', 'shaven', 'thou', 'i', 'said', 'art', 'sure', 'no', 'craven', 'ghastly', 'grim', 'and', 'ancient', 'raven', 'wandering', 'from', 'the', 'nightly', 'shore', 'tell', 'me', 'what', 'thy', 'lordly', 'name', 'is', 'on', 'the', 'night', 's', 'plutonian', 'shore', 'quoth', 'the', 'raven', 'nevermore', 'much', 'i', 'marvelled', 'this', 'ungainly', 'fowl', 'to', 'hear', 'discourse', 'so', 'plainly', 'though', 'its', 'answer', 'little', 'meaning', 'little', 'relevancy', 'bore', 'for', 'we', 'can', 'not', 'help', 'agreeing', 'that', 'no', 'living', 'human', 'being', 'ever', 'yet', 'was', 'blessed', 'with', 'seeing', 'bird', 'above', 'his', 'chamber', 'door', 'bird', 'or', 'beast', 'upon', 'the', 'sculptured', 'bust', 'above', 'his', 'chamber', 'door', 'with', 'such', 'name', 'as', 'nevermore', 'but', 'the', 'raven', 'sitting', 'lonely', 'on', 'the', 'placid', 'bust', 'spoke', 'only', 'that', 'one', 'word', 'as', 'if', 'his', 'soul', 'in', 'that', 'one', 'word', 'he', 'did', 'outpour', 'nothing', 'further', 'then', 'he', 'uttered', 'not', 'a', 'feather', 'then', 'he', 'fluttered', 'till', 'i', 'scarcely', 'more', 'than', 'muttered', 'other', 'friends', 'have', 'flown', 'before', 'on', 'the', 'morrow', 'he', 'will', 'leave', 'me', 'as', 'my', 'hopes', 'have', 'flown', 'before', 'then', 'the', 'bird', 'said', 'nevermore', 'startled', 'at', 'the', 'stillness', 'broken', 'by', 'reply', 'so', 'aptly', 'spoken', 'doubtless', 'said', 'i', 'what', 'it', 'utters', 'is', 'its', 'only', 'stock', 'and', 'store', 'caught', 'from', 'some', 'unhappy', 'master', 'whom', 'unmerciful', 'disaster', 'followed', 'fast', 'and', 'followed', 'faster', 'till', 'his', 'songs', 'one', 'burden', 'bore', 'till', 'the', 'dirges', 'of', 'his', 'hope', 'that', 'melancholy', 'burden', 'bore', 'of', 'never', 'nevermore', 'but', 'the', 'raven', 'still', 'beguiling', 'all', 'my', 'sad', 'soul', 'into', 'smiling', 'straight', 'i', 'wheeled', 'a', 'cushioned', 'seat', 'in', 'front', 'of', 'bird', 'and', 'bust', 'and', 'door', 'then', 'upon', 'the', 'velvet', 'sinking', 'i', 'betook', 'myself', 'to', 'linking', 'fancy', 'unto', 'fancy', 'thinking', 'what', 'this', 'ominous', 'bird', 'of', 'yore', 'what', 'this', 'grim', 'ungainly', 'ghastly', 'gaunt', 'and', 'ominous', 'bird', 'of', 'yore', 'meant', 'in', 'croaking', 'nevermore', 'this', 'i', 'sat', 'engaged', 'in', 'guessing', 'but', 'no', 'syllable', 'expressing', 'to', 'the', 'fowl', 'whose', 'fiery', 'eyes', 'now', 'burned', 'into', 'my', 'bosom', 's', 'core', 'this', 'and', 'more', 'i', 'sat', 'divining', 'with', 'my', 'head', 'at', 'ease', 'reclining', 'on', 'the', 'cushion', 's', 'velvet', 'lining', 'that', 'the', 'lamplight', 'gloated', 'o', 'er', 'but', 'whose', 'velvet', 'violet', 'lining', 'with', 'the', 'lamplight', 'gloating', 'o', 'er', 'she', 'shall', 'press', 'ah', 'nevermore', 'then', 'methought', 'the', 'air', 'grew', 'denser', 'perfumed', 'from', 'an', 'unseen', 'censer', 'swung', 'by', 'seraphim', 'whose', 'foot', 'falls', 'tinkled', 'on', 'the', 'tufted', 'floor', 'wretch', 'i', 'cried', 'thy', 'god', 'hath', 'lent', 'thee', 'by', 'these', 'angels', 'he', 'hath', 'sent', 'thee', 'respite', 'respite', 'and', 'nepenthe', 'from', 'thy', 'memories', 'of', 'lenore', 'quaff', 'oh', 'quaff', 'this', 'kind', 'nepenthe', 'and', 'forget', 'this', 'lost', 'lenore', 'quoth', 'the', 'raven', 'nevermore', 'prophet', 'said', 'i', 'thing', 'of', 'evil', 'prophet', 'still', 'if', 'bird', 'or', 'devil', 'whether', 'tempter', 'sent', 'or', 'whether', 'tempest', 'tossed', 'thee', 'here', 'ashore', 'desolate', 'yet', 'all', 'undaunted', 'on', 'this', 'desert', 'land', 'enchanted', 'on', 'this', 'home', 'by', 'horror', 'haunted', 'tell', 'me', 'truly', 'i', 'implore', 'is', 'there', 'is', 'there', 'balm', 'in', 'gilead', 'tell', 'me', 'tell', 'me', 'i', 'implore', 'quoth', 'the', 'raven', 'nevermore', 'prophet', 'said', 'i', 'thing', 'of', 'evil', 'prophet', 'still', 'if', 'bird', 'or', 'devil', 'by', 'that', 'heaven', 'that', 'bends', 'above', 'us', 'by', 'that', 'god', 'we', 'both', 'adore', 'tell', 'this', 'soul', 'with', 'sorrow', 'laden', 'if', 'within', 'the', 'distant', 'aidenn', 'it', 'shall', 'clasp', 'a', 'sainted', 'maiden', 'whom', 'the', 'angels', 'name', 'lenore', 'clasp', 'a', 'rare', 'and', 'radiant', 'maiden', 'whom', 'the', 'angels', 'name', 'lenore', 'quoth', 'the', 'raven', 'nevermore', 'be', 'that', 'word', 'our', 'sign', 'of', 'parting', 'bird', 'or', 'fiend', 'i', 'shrieked', 'upstarting', 'get', 'thee', 'back', 'into', 'the', 'tempest', 'and', 'the', 'night', 's', 'plutonian', 'shore', 'leave', 'no', 'black', 'plume', 'as', 'a', 'token', 'of', 'that', 'lie', 'thy', 'soul', 'hath', 'spoken', 'leave', 'my', 'loneliness', 'unbroken', 'quit', 'the', 'bust', 'above', 'my', 'door', 'take', 'thy', 'beak', 'from', 'out', 'my', 'heart', 'and', 'take', 'thy', 'form', 'from', 'off', 'my', 'door', 'quoth', 'the', 'raven', 'nevermore', 'and', 'the', 'raven', 'never', 'flitting', 'still', 'is', 'sitting', 'still', 'is', 'sitting', 'on', 'the', 'pallid', 'bust', 'of', 'pallas', 'just', 'above', 'my', 'chamber', 'door', 'and', 'his', 'eyes', 'have', 'all', 'the', 'seeming', 'of', 'a', 'demon', 's', 'that', 'is', 'dreaming', 'and', 'the', 'lamplight', 'o', 'er', 'him', 'streaming', 'throws', 'his', 'shadow', 'on', 'the', 'floor', 'and', 'my', 'soul', 'from', 'out', 'that', 'shadow', 'that', 'lies', 'floating', 'on', 'the', 'floor', 'shall', 'be', 'lifted', 'nevermore']\n"
     ]
    }
   ],
   "source": [
    "doc = nlp(text_en_sub)\n",
    "tokens_en = [\n",
    "    token.text    \n",
    "    for token in doc    \n",
    "    if not token.is_space and not token.is_punct\n",
    "]\n",
    "print(tokens_en)"
   ]
  },
  {
   "cell_type": "markdown",
   "metadata": {},
   "source": [
    "Then, I proceed to tokenize the text: to do so I gave the command to tokenize every token that spacy could recognize in her library and only if it wasn't a sign of punctuation or a space.\n",
    "I printed the tokens, which will result to be just lowercase words, without any punctuation nor space."
   ]
  },
  {
   "cell_type": "code",
   "execution_count": 7,
   "metadata": {
    "collapsed": true,
    "jupyter": {
     "outputs_hidden": true
    },
    "tags": []
   },
   "outputs": [
    {
     "data": {
      "text/plain": [
       "[('the', 57),\n",
       " ('and', 38),\n",
       " ('i', 32),\n",
       " ('my', 24),\n",
       " ('of', 22),\n",
       " ('this', 17),\n",
       " ('that', 17),\n",
       " ('a', 15),\n",
       " ('door', 14),\n",
       " ('is', 14),\n",
       " ('raven', 11),\n",
       " ('chamber', 11),\n",
       " ('nevermore', 11),\n",
       " ('bird', 10),\n",
       " ('on', 10),\n",
       " ('me', 9),\n",
       " ('at', 8),\n",
       " ('more', 8),\n",
       " ('from', 8),\n",
       " ('lenore', 8),\n",
       " ('with', 8),\n",
       " ('then', 8),\n",
       " ('or', 8),\n",
       " ('there', 7),\n",
       " ('nothing', 7),\n",
       " ('in', 7),\n",
       " ('still', 7),\n",
       " ('soul', 7),\n",
       " ('no', 7),\n",
       " ('said', 7),\n",
       " ('but', 7),\n",
       " ('he', 7),\n",
       " ('above', 7),\n",
       " ('by', 7),\n",
       " ('thy', 7),\n",
       " ('his', 7),\n",
       " ('was', 6),\n",
       " ('to', 6),\n",
       " ('into', 6),\n",
       " ('word', 6),\n",
       " ('bust', 6),\n",
       " ('upon', 5),\n",
       " ('tapping', 5),\n",
       " ('as', 5),\n",
       " ('some', 5),\n",
       " ('it', 5),\n",
       " ('name', 5),\n",
       " ('before', 5),\n",
       " ('so', 5),\n",
       " ('what', 5),\n",
       " ('tell', 5),\n",
       " ('s', 5),\n",
       " ('quoth', 5),\n",
       " ('one', 4),\n",
       " ('only', 4),\n",
       " ('floor', 4),\n",
       " ('for', 4),\n",
       " ('whom', 4),\n",
       " ('angels', 4),\n",
       " ('here', 4),\n",
       " ('all', 4),\n",
       " ('be', 4),\n",
       " ('not', 4),\n",
       " ('if', 4),\n",
       " ('thee', 4),\n",
       " ('prophet', 4),\n",
       " ('came', 3),\n",
       " ('rapping', 3),\n",
       " ('t', 3),\n",
       " ('visiter', 3),\n",
       " ('its', 3),\n",
       " ('sorrow', 3),\n",
       " ('maiden', 3),\n",
       " ('sad', 3),\n",
       " ('never', 3),\n",
       " ('heart', 3),\n",
       " ('implore', 3),\n",
       " ('you', 3),\n",
       " ('darkness', 3),\n",
       " ('spoken', 3),\n",
       " ('back', 3),\n",
       " ('yore', 3),\n",
       " ('perched', 3),\n",
       " ('sat', 3),\n",
       " ('fancy', 3),\n",
       " ('shore', 3),\n",
       " ('bore', 3),\n",
       " ('sitting', 3),\n",
       " ('till', 3),\n",
       " ('have', 3),\n",
       " ('leave', 3),\n",
       " ('velvet', 3),\n",
       " ('whose', 3),\n",
       " ('lamplight', 3),\n",
       " ('o', 3),\n",
       " ('er', 3),\n",
       " ('shall', 3),\n",
       " ('hath', 3),\n",
       " ('while', 2),\n",
       " ('many', 2),\n",
       " ('napping', 2),\n",
       " ('gently', 2),\n",
       " ('muttered', 2),\n",
       " ('ah', 2),\n",
       " ('each', 2),\n",
       " ('morrow', 2),\n",
       " ('lost', 2),\n",
       " ('rare', 2),\n",
       " ('radiant', 2),\n",
       " ('now', 2),\n",
       " ('stood', 2),\n",
       " ('entreating', 2),\n",
       " ('entrance', 2),\n",
       " ('grew', 2),\n",
       " ('truly', 2),\n",
       " ('sure', 2),\n",
       " ('heard', 2),\n",
       " ('dreaming', 2),\n",
       " ('ever', 2),\n",
       " ('unbroken', 2),\n",
       " ('token', 2),\n",
       " ('whispered', 2),\n",
       " ('an', 2),\n",
       " ('within', 2),\n",
       " ('than', 2),\n",
       " ('surely', 2),\n",
       " ('let', 2),\n",
       " ('mystery', 2),\n",
       " ('explore', 2),\n",
       " ('pallas', 2),\n",
       " ('just', 2),\n",
       " ('beguiling', 2),\n",
       " ('smiling', 2),\n",
       " ('though', 2),\n",
       " ('ghastly', 2),\n",
       " ('grim', 2),\n",
       " ('night', 2),\n",
       " ('plutonian', 2),\n",
       " ('ungainly', 2),\n",
       " ('fowl', 2),\n",
       " ('little', 2),\n",
       " ('we', 2),\n",
       " ('yet', 2),\n",
       " ('flown', 2),\n",
       " ('followed', 2),\n",
       " ('burden', 2),\n",
       " ('ominous', 2),\n",
       " ('eyes', 2),\n",
       " ('lining', 2),\n",
       " ('god', 2),\n",
       " ('sent', 2),\n",
       " ('respite', 2),\n",
       " ('nepenthe', 2),\n",
       " ('quaff', 2),\n",
       " ('thing', 2),\n",
       " ('evil', 2),\n",
       " ('devil', 2),\n",
       " ('whether', 2),\n",
       " ('tempest', 2),\n",
       " ('clasp', 2),\n",
       " ('take', 2),\n",
       " ('out', 2),\n",
       " ('shadow', 2),\n",
       " ('once', 1),\n",
       " ('midnight', 1),\n",
       " ('dreary', 1),\n",
       " ('pondered', 1),\n",
       " ('weak', 1),\n",
       " ('weary', 1),\n",
       " ('over', 1),\n",
       " ('quaint', 1),\n",
       " ('curious', 1),\n",
       " ('volume', 1),\n",
       " ('forgotten', 1),\n",
       " ('lore', 1),\n",
       " ('nodded', 1),\n",
       " ('nearly', 1),\n",
       " ('suddenly', 1),\n",
       " ('distinctly', 1),\n",
       " ('remember', 1),\n",
       " ('bleak', 1),\n",
       " ('december', 1),\n",
       " ('separate', 1),\n",
       " ('dying', 1),\n",
       " ('ember', 1),\n",
       " ('wrought', 1),\n",
       " ('ghost', 1),\n",
       " ('eagerly', 1),\n",
       " ('wished', 1),\n",
       " ('vainly', 1),\n",
       " ('had', 1),\n",
       " ('sought', 1),\n",
       " ('borrow', 1),\n",
       " ('books', 1),\n",
       " ('surcease', 1),\n",
       " ('nameless', 1),\n",
       " ('evermore', 1),\n",
       " ('silken', 1),\n",
       " ('uncertain', 1),\n",
       " ('rustling', 1),\n",
       " ('purple', 1),\n",
       " ('curtain', 1),\n",
       " ('thrilled', 1),\n",
       " ('filled', 1),\n",
       " ('fantastic', 1),\n",
       " ('terrors', 1),\n",
       " ('felt', 1),\n",
       " ('beating', 1),\n",
       " ('repeating', 1),\n",
       " ('late', 1),\n",
       " ('presently', 1),\n",
       " ('stronger', 1),\n",
       " ('hesitating', 1),\n",
       " ('longer', 1),\n",
       " ('sir', 1),\n",
       " ('madam', 1),\n",
       " ('your', 1),\n",
       " ('forgiveness', 1),\n",
       " ('fact', 1),\n",
       " ('faintly', 1),\n",
       " ('scarce', 1),\n",
       " ('opened', 1),\n",
       " ('wide', 1),\n",
       " ('deep', 1),\n",
       " ('peering', 1),\n",
       " ('long', 1),\n",
       " ('wondering', 1),\n",
       " ('fearing', 1),\n",
       " ('doubting', 1),\n",
       " ('dreams', 1),\n",
       " ('mortal', 1),\n",
       " ('dared', 1),\n",
       " ('dream', 1),\n",
       " ('silence', 1),\n",
       " ('gave', 1),\n",
       " ('echo', 1),\n",
       " ('murmured', 1),\n",
       " ('merely', 1),\n",
       " ('turning', 1),\n",
       " ('burning', 1),\n",
       " ('soon', 1),\n",
       " ('again', 1),\n",
       " ('somewhat', 1),\n",
       " ('louder', 1),\n",
       " ('something', 1),\n",
       " ('window', 1),\n",
       " ('lattice', 1),\n",
       " ('see', 1),\n",
       " ('thereat', 1),\n",
       " ('moment', 1),\n",
       " ('wind', 1),\n",
       " ('open', 1),\n",
       " ('flung', 1),\n",
       " ('shutter', 1),\n",
       " ('when', 1),\n",
       " ('flirt', 1),\n",
       " ('flutter', 1),\n",
       " ('stepped', 1),\n",
       " ('stately', 1),\n",
       " ('saintly', 1),\n",
       " ('days', 1),\n",
       " ('least', 1),\n",
       " ('obeisance', 1),\n",
       " ('made', 1),\n",
       " ('minute', 1),\n",
       " ('stopped', 1),\n",
       " ('stayed', 1),\n",
       " ('mien', 1),\n",
       " ('lord', 1),\n",
       " ('lady', 1),\n",
       " ('ebony', 1),\n",
       " ('grave', 1),\n",
       " ('stern', 1),\n",
       " ('decorum', 1),\n",
       " ('countenance', 1),\n",
       " ('wore', 1),\n",
       " ('crest', 1),\n",
       " ('shorn', 1),\n",
       " ('shaven', 1),\n",
       " ('thou', 1),\n",
       " ('art', 1),\n",
       " ('craven', 1),\n",
       " ('ancient', 1),\n",
       " ('wandering', 1),\n",
       " ('nightly', 1),\n",
       " ('lordly', 1),\n",
       " ('much', 1),\n",
       " ('marvelled', 1),\n",
       " ('hear', 1),\n",
       " ('discourse', 1),\n",
       " ('plainly', 1),\n",
       " ('answer', 1),\n",
       " ('meaning', 1),\n",
       " ('relevancy', 1),\n",
       " ('can', 1),\n",
       " ('help', 1),\n",
       " ('agreeing', 1),\n",
       " ('living', 1),\n",
       " ('human', 1),\n",
       " ('being', 1),\n",
       " ('blessed', 1),\n",
       " ('seeing', 1),\n",
       " ('beast', 1),\n",
       " ('sculptured', 1),\n",
       " ('such', 1),\n",
       " ('lonely', 1),\n",
       " ('placid', 1),\n",
       " ('spoke', 1),\n",
       " ('did', 1),\n",
       " ('outpour', 1),\n",
       " ('further', 1),\n",
       " ('uttered', 1),\n",
       " ('feather', 1),\n",
       " ('fluttered', 1),\n",
       " ('scarcely', 1),\n",
       " ('other', 1),\n",
       " ('friends', 1),\n",
       " ('will', 1),\n",
       " ('hopes', 1),\n",
       " ('startled', 1),\n",
       " ('stillness', 1),\n",
       " ('broken', 1),\n",
       " ('reply', 1),\n",
       " ('aptly', 1),\n",
       " ('doubtless', 1),\n",
       " ('utters', 1),\n",
       " ('stock', 1),\n",
       " ('store', 1),\n",
       " ('caught', 1),\n",
       " ('unhappy', 1),\n",
       " ('master', 1),\n",
       " ('unmerciful', 1),\n",
       " ('disaster', 1),\n",
       " ('fast', 1),\n",
       " ('faster', 1),\n",
       " ('songs', 1),\n",
       " ('dirges', 1),\n",
       " ('hope', 1),\n",
       " ('melancholy', 1),\n",
       " ('straight', 1),\n",
       " ('wheeled', 1),\n",
       " ('cushioned', 1),\n",
       " ('seat', 1),\n",
       " ('front', 1),\n",
       " ('sinking', 1),\n",
       " ('betook', 1),\n",
       " ('myself', 1),\n",
       " ('linking', 1),\n",
       " ('unto', 1),\n",
       " ('thinking', 1),\n",
       " ('gaunt', 1),\n",
       " ('meant', 1),\n",
       " ('croaking', 1),\n",
       " ('engaged', 1),\n",
       " ('guessing', 1),\n",
       " ('syllable', 1),\n",
       " ('expressing', 1),\n",
       " ('fiery', 1),\n",
       " ('burned', 1),\n",
       " ('bosom', 1),\n",
       " ('core', 1),\n",
       " ('divining', 1),\n",
       " ('head', 1),\n",
       " ('ease', 1),\n",
       " ('reclining', 1),\n",
       " ('cushion', 1),\n",
       " ('gloated', 1),\n",
       " ('violet', 1),\n",
       " ('gloating', 1),\n",
       " ('she', 1),\n",
       " ('press', 1),\n",
       " ('methought', 1),\n",
       " ('air', 1),\n",
       " ('denser', 1),\n",
       " ('perfumed', 1),\n",
       " ('unseen', 1),\n",
       " ('censer', 1),\n",
       " ('swung', 1),\n",
       " ('seraphim', 1),\n",
       " ('foot', 1),\n",
       " ('falls', 1),\n",
       " ('tinkled', 1),\n",
       " ('tufted', 1),\n",
       " ('wretch', 1),\n",
       " ('cried', 1),\n",
       " ('lent', 1),\n",
       " ('these', 1),\n",
       " ('memories', 1),\n",
       " ('oh', 1),\n",
       " ('kind', 1),\n",
       " ('forget', 1),\n",
       " ('tempter', 1),\n",
       " ('tossed', 1),\n",
       " ('ashore', 1),\n",
       " ('desolate', 1),\n",
       " ('undaunted', 1),\n",
       " ('desert', 1),\n",
       " ('land', 1),\n",
       " ('enchanted', 1),\n",
       " ('home', 1),\n",
       " ('horror', 1),\n",
       " ('haunted', 1),\n",
       " ('balm', 1),\n",
       " ('gilead', 1),\n",
       " ('heaven', 1),\n",
       " ('bends', 1),\n",
       " ('us', 1),\n",
       " ('both', 1),\n",
       " ('adore', 1),\n",
       " ('laden', 1),\n",
       " ('distant', 1),\n",
       " ('aidenn', 1),\n",
       " ('sainted', 1),\n",
       " ('our', 1),\n",
       " ('sign', 1),\n",
       " ('parting', 1),\n",
       " ('fiend', 1),\n",
       " ('shrieked', 1),\n",
       " ('upstarting', 1),\n",
       " ('get', 1),\n",
       " ('black', 1),\n",
       " ('plume', 1),\n",
       " ('lie', 1),\n",
       " ('loneliness', 1),\n",
       " ('quit', 1),\n",
       " ('beak', 1),\n",
       " ('form', 1),\n",
       " ('off', 1),\n",
       " ('flitting', 1),\n",
       " ('pallid', 1),\n",
       " ('seeming', 1),\n",
       " ('demon', 1),\n",
       " ('him', 1),\n",
       " ('streaming', 1),\n",
       " ('throws', 1),\n",
       " ('lies', 1),\n",
       " ('floating', 1),\n",
       " ('lifted', 1)]"
      ]
     },
     "execution_count": 7,
     "metadata": {},
     "output_type": "execute_result"
    }
   ],
   "source": [
    "from collections import Counter\n",
    "freq_tokens = Counter(tokens_en)\n",
    "freq_tokens.most_common()"
   ]
  },
  {
   "cell_type": "markdown",
   "metadata": {},
   "source": [
    "From the module \"collections\" I imported the class \"Counter\".\n",
    "In order to see the frequency of each token in the text, I use the class Counter and order them from the most common to the least one, in this way we can see which tokens are the most frequent. "
   ]
  },
  {
   "cell_type": "code",
   "execution_count": 8,
   "metadata": {},
   "outputs": [],
   "source": [
    "freq_en = freq_tokens.most_common()"
   ]
  },
  {
   "cell_type": "markdown",
   "metadata": {},
   "source": [
    "I assign the variable \"freq_en\" to this list of tokens and their respective frequency in the text."
   ]
  },
  {
   "cell_type": "code",
   "execution_count": 9,
   "metadata": {},
   "outputs": [
    {
     "name": "stdout",
     "output_type": "stream",
     "text": [
      "3 length: 173 words\n",
      "1 length: 58 words\n",
      "2 length: 163 words\n",
      "4 length: 262 words\n",
      "5 length: 130 words\n",
      "7 length: 107 words\n",
      "9 length: 41 words\n",
      "6 length: 106 words\n",
      "8 length: 50 words\n",
      "10 length: 10 words\n",
      "11 length: 2 words\n"
     ]
    }
   ],
   "source": [
    "dict_en = {}\n",
    "for token, frequency in freq_en:\n",
    "    length = sum(c.isalpha() for c in token)\n",
    "    if length in dict_en:\n",
    "        dict_en[length] += frequency\n",
    "    else:\n",
    "        dict_en[length] = frequency\n",
    "for length, frequency in dict_en.items():\n",
    "    print(f\"{length} length: {frequency} words\")"
   ]
  },
  {
   "cell_type": "markdown",
   "metadata": {},
   "source": [
    "One of the last steps is to create a dictionary to correlate the length of each token and the frequency for each length of the tokens in the text.\n",
    "I calculate the length of each token found in the variable \"freq_en\" summing all the alphabetic characters in each token. Then, the length was associated to the frequency of each word.\n",
    "Then, I take the keys (so the length of the words) and their values (their frequencies) as tuples, and print them as strings that will show the length and its corresponding frequency."
   ]
  },
  {
   "cell_type": "code",
   "execution_count": 10,
   "metadata": {},
   "outputs": [
    {
     "name": "stdout",
     "output_type": "stream",
     "text": [
      "1102\n"
     ]
    }
   ],
   "source": [
    "print(len(tokens_en))"
   ]
  },
  {
   "cell_type": "markdown",
   "metadata": {},
   "source": [
    "I print the number of tokens present in the english poem, so that I can check the numbers shown in the dictionary. Maybe later it will be also helpful for further considerations. "
   ]
  },
  {
   "cell_type": "code",
   "execution_count": 11,
   "metadata": {},
   "outputs": [],
   "source": [
    "import operator\n",
    "from operator import itemgetter"
   ]
  },
  {
   "cell_type": "markdown",
   "metadata": {},
   "source": [
    "I import the module operator and itemgetter to later sort the dictionary just created. "
   ]
  },
  {
   "cell_type": "code",
   "execution_count": 12,
   "metadata": {},
   "outputs": [
    {
     "name": "stdout",
     "output_type": "stream",
     "text": [
      "{4: 262, 3: 173, 2: 163, 5: 130, 7: 107, 6: 106, 1: 58, 8: 50, 9: 41, 10: 10, 11: 2}\n"
     ]
    }
   ],
   "source": [
    "sorted_dict_en = dict(sorted(dict_en.items(), key=operator.itemgetter(1), reverse=True))\n",
    "print(sorted_dict_en)"
   ]
  },
  {
   "cell_type": "markdown",
   "metadata": {},
   "source": [
    "I wanted to sorted the keys of the dictionary by their values, especially from the highest to the lowest, so that we could see how many letters had the most frequent words. I did that with the reversed operator itemgetter."
   ]
  },
  {
   "cell_type": "code",
   "execution_count": 13,
   "metadata": {},
   "outputs": [],
   "source": [
    "lengths_en = list(sorted_dict_en.keys())\n",
    "frequencies_en = list(sorted_dict_en.values())"
   ]
  },
  {
   "cell_type": "markdown",
   "metadata": {},
   "source": [
    "To be able to work with the keys and the values of the dictionary that I sorted I assigned to them two separate variables (\"lengths_en\" and \"frequency_en\", corresponding respectively to the length of the word and its frequency in the text)."
   ]
  },
  {
   "cell_type": "code",
   "execution_count": 14,
   "metadata": {},
   "outputs": [
    {
     "data": {
      "image/png": "[encoded data removed]",
      "text/plain": [
       "<Figure size 1000x600 with 1 Axes>"
      ]
     },
     "metadata": {},
     "output_type": "display_data"
    }
   ],
   "source": [
    "import matplotlib.pyplot as plt\n",
    "plt.figure(figsize=(10,6))\n",
    "plt.bar(lengths_en, frequencies_en, color = \"#AAC0AF\")\n",
    "plt.xlabel('Length')\n",
    "plt.ylabel('Frequency')\n",
    "plt.title('Length and frequency of words in the English poem')\n",
    "plt.show()"
   ]
  },
  {
   "cell_type": "markdown",
   "metadata": {},
   "source": [
    "To plot a diagram bar I had to import the \"matplotlib.pyplot\" and I will use it as \"plt\", which is its shorter alias.\n",
    "I assign the measures of 10 (length) and 6 (height) for the figure, in order to make it a little bit bigger than the by default size.\n",
    "To plot the bar diagram we use the function \"plot.bar\" with the variable \"lengths_en\" that will be on the X axis, and the variable \"frequencies_en\" that will be on the Y axis.\n",
    "I also give the code of the color that i want for the bars.\n",
    "I assign the labels to the two axis, so that the plot can be clearer to comprehend.\n",
    "With the function plt.title, I give the title to the plot.\n",
    "I proceed to show the diagram that I have plotted."
   ]
  },
  {
   "cell_type": "markdown",
   "metadata": {},
   "source": [
    "### Italian poem"
   ]
  },
  {
   "cell_type": "code",
   "execution_count": 15,
   "metadata": {
    "tags": []
   },
   "outputs": [],
   "source": [
    "myfile = open(\"italian_poem.txt\", \"r\", encoding='utf-8')\n",
    "text_it = myfile.read()"
   ]
  },
  {
   "cell_type": "markdown",
   "metadata": {},
   "source": [
    "I open, in the read modality, decoding as utf-8 the file .txt where the poem \"Canto Notturno\" is.\n",
    "I assign the variable \"text_en\" to the file that is being read, so to the content (the text) in it. "
   ]
  },
  {
   "cell_type": "code",
   "execution_count": 16,
   "metadata": {
    "tags": []
   },
   "outputs": [],
   "source": [
    "text_it_sub = re.sub(\"[^a-zA-Z]\", \" \", text_it.lower(), flags=re.UNICODE)"
   ]
  },
  {
   "cell_type": "markdown",
   "metadata": {},
   "source": [
    "Here, I substitute everything that is not letters between a-z with a space, in this way I can delete all the special characters such as underscore, new line commands and numbers). I also put the text in lowercase, so that we won't have two different words if one has a capital letter and the other doesn't. I assign the this operation the variable \"text_it_sub\".\n",
    "I insert also this expression \"flags=re.UNICODE\", which is used to include letter with accents, that are common in italian. "
   ]
  },
  {
   "cell_type": "code",
   "execution_count": 17,
   "metadata": {
    "tags": []
   },
   "outputs": [],
   "source": [
    "import it_core_news_sm\n",
    "nlp = it_core_news_sm.load() "
   ]
  },
  {
   "cell_type": "markdown",
   "metadata": {},
   "source": [
    "I import and load the model \"it_core_news_sm\", to work with the Italian language."
   ]
  },
  {
   "cell_type": "code",
   "execution_count": 18,
   "metadata": {
    "collapsed": true,
    "jupyter": {
     "outputs_hidden": true
    },
    "tags": []
   },
   "outputs": [
    {
     "name": "stdout",
     "output_type": "stream",
     "text": [
      "['canti', 'xxiii', 'canto', 'notturno', 'di', 'un', 'pastore', 'errante', 'dell', 'asia', 'giacomo', 'leopardi', 'xxiii', 'canto', 'notturno', 'di', 'un', 'pastore', 'errante', 'dell', 'asia', 'che', 'fai', 'tu', 'luna', 'in', 'ciel', 'dimmi', 'che', 'fai', 'silenziosa', 'luna', 'sorgi', 'la', 'sera', 'e', 'vai', 'contemplando', 'i', 'deserti', 'indi', 'ti', 'posi', 'ancor', 'non', 'sei', 'tu', 'paga', 'di', 'riandare', 'i', 'sempiterni', 'calli', 'ancor', 'non', 'prendi', 'a', 'schivo', 'ancor', 'sei', 'vaga', 'di', 'mirar', 'queste', 'valli', 'somiglia', 'alla', 'tua', 'vita', 'la', 'vita', 'del', 'pastore', 'sorge', 'in', 'sul', 'primo', 'albore', 'move', 'la', 'greggia', 'oltre', 'pel', 'campo', 'e', 'vede', 'greggi', 'fontane', 'ed', 'erbe', 'poi', 'stanco', 'si', 'riposa', 'in', 'su', 'la', 'sera', 'altro', 'mai', 'non', 'ispera', 'dimmi', 'o', 'luna', 'a', 'che', 'vale', 'al', 'pastor', 'la', 'sua', 'vita', 'la', 'vostra', 'vita', 'a', 'voi', 'dimmi', 'ove', 'tende', 'questo', 'vagar', 'mio', 'breve', 'il', 'tuo', 'corso', 'immortale', 'vecchierel', 'bianco', 'infermo', 'mezzo', 'vestito', 'e', 'scalzo', 'con', 'gravissimo', 'fascio', 'in', 'su', 'le', 'spalle', 'per', 'montagna', 'e', 'per', 'valle', 'per', 'sassi', 'acuti', 'ed', 'alta', 'rena', 'e', 'fratte', 'al', 'vento', 'alla', 'tempesta', 'e', 'quando', 'avvampa', 'l', 'ora', 'e', 'quando', 'poi', 'gela', 'corre', 'via', 'corre', 'anela', 'varca', 'torrenti', 'e', 'stagni', 'cade', 'risorge', 'e', 'pi', 'e', 'pi', 's', 'affretta', 'senza', 'posa', 'o', 'ristoro', 'lacero', 'sanguinoso', 'infin', 'ch', 'arriva', 'col', 'dove', 'la', 'via', 'e', 'dove', 'il', 'tanto', 'affaticar', 'fu', 'v', 'lto', 'abisso', 'orrido', 'immenso', 'ov', 'ei', 'precipitando', 'il', 'tutto', 'obblia', 'vergine', 'luna', 'tale', 'la', 'vita', 'mortale', 'nasce', 'l', 'uomo', 'a', 'fatica', 'ed', 'rischio', 'di', 'morte', 'il', 'nascimento', 'prova', 'pena', 'e', 'tormento', 'per', 'prima', 'cosa', 'e', 'in', 'sul', 'principio', 'stesso', 'la', 'madre', 'e', 'il', 'genitore', 'il', 'prende', 'a', 'consolar', 'dell', 'esser', 'nato', 'poi', 'che', 'crescendo', 'viene', 'l', 'uno', 'e', 'l', 'altro', 'il', 'sostiene', 'e', 'via', 'pur', 'sempre', 'con', 'atti', 'e', 'con', 'parole', 'studiasi', 'fargli', 'core', 'e', 'consolarlo', 'dell', 'umano', 'stato', 'altro', 'ufficio', 'pi', 'grato', 'non', 'si', 'fa', 'da', 'parenti', 'alla', 'lor', 'prole', 'ma', 'perch', 'dare', 'al', 'sole', 'perch', 'reggere', 'in', 'vita', 'chi', 'poi', 'di', 'quella', 'consolar', 'convenga', 'se', 'la', 'vita', 'sventura', 'perch', 'da', 'noi', 'si', 'dura', 'intatta', 'luna', 'tale', 'lo', 'stato', 'mortale', 'ma', 'tu', 'mortal', 'non', 'sei', 'e', 'forse', 'del', 'mio', 'dir', 'poco', 'ti', 'cale', 'pur', 'tu', 'solinga', 'eterna', 'peregrina', 'che', 's', 'pensosa', 'sei', 'tu', 'forse', 'intendi', 'questo', 'viver', 'terreno', 'il', 'patir', 'nostro', 'il', 'sospirar', 'che', 'sia', 'che', 'sia', 'questo', 'morir', 'questo', 'supremo', 'scolorar', 'del', 'sembiante', 'e', 'perir', 'della', 'terra', 'e', 'venir', 'meno', 'ad', 'ogni', 'usata', 'amante', 'compagnia', 'e', 'tu', 'certo', 'comprendi', 'il', 'perch', 'delle', 'cose', 'e', 'vedi', 'il', 'frutto', 'del', 'mattin', 'della', 'sera', 'del', 'tacito', 'infinito', 'andar', 'del', 'tempo', 'tu', 'sai', 'tu', 'certo', 'a', 'qual', 'suo', 'dolce', 'amore', 'rida', 'la', 'primavera', 'a', 'chi', 'giovi', 'l', 'ardore', 'e', 'che', 'procacci', 'il', 'verno', 'co', 'suoi', 'ghiacci', 'mille', 'cose', 'sai', 'tu', 'mille', 'discopri', 'che', 'son', 'celate', 'al', 'semplice', 'pastore', 'spesso', 'quand', 'io', 'ti', 'miro', 'star', 'cos', 'muta', 'in', 'sul', 'deserto', 'piano', 'che', 'in', 'suo', 'giro', 'lontano', 'al', 'ciel', 'confina', 'ovver', 'con', 'la', 'mia', 'greggia', 'seguirmi', 'viaggiando', 'a', 'mano', 'a', 'mano', 'e', 'quando', 'miro', 'in', 'cielo', 'arder', 'le', 'stelle', 'dico', 'fra', 'me', 'pensando', 'a', 'che', 'tante', 'facelle', 'che', 'fa', 'l', 'aria', 'infinita', 'e', 'quel', 'profondo', 'infinito', 'seren', 'che', 'vuol', 'dir', 'questa', 'solitudine', 'immensa', 'ed', 'io', 'che', 'sono', 'cos', 'meco', 'ragiono', 'e', 'della', 'stanza', 'smisurata', 'e', 'superba', 'e', 'dell', 'innumerabile', 'famiglia', 'poi', 'di', 'tanto', 'adoprar', 'di', 'tanti', 'moti', 'd', 'ogni', 'celeste', 'ogni', 'terrena', 'cosa', 'girando', 'senza', 'posa', 'per', 'tornar', 'sempre', 'l', 'donde', 'son', 'mosse', 'uso', 'alcuno', 'alcun', 'frutto', 'indovinar', 'non', 'so', 'ma', 'tu', 'per', 'certo', 'giovinetta', 'immortal', 'conosci', 'il', 'tutto', 'questo', 'io', 'conosco', 'e', 'sento', 'che', 'degli', 'eterni', 'giri', 'che', 'dell', 'esser', 'mio', 'frale', 'qualche', 'bene', 'o', 'contento', 'avr', 'fors', 'altri', 'a', 'me', 'la', 'vita', 'male', 'o', 'greggia', 'mia', 'che', 'posi', 'oh', 'te', 'beata', 'che', 'la', 'miseria', 'tua', 'credo', 'non', 'sai', 'quanta', 'invidia', 'ti', 'porto', 'non', 'sol', 'perch', 'd', 'affanno', 'quasi', 'libera', 'vai', 'ch', 'ogni', 'stento', 'ogni', 'danno', 'ogni', 'estremo', 'timor', 'subito', 'scordi', 'ma', 'pi', 'perch', 'giammai', 'tedio', 'non', 'provi', 'quando', 'tu', 'siedi', 'all', 'ombra', 'sovra', 'l', 'erbe', 'tu', 'se', 'queta', 'e', 'contenta', 'e', 'gran', 'parte', 'dell', 'anno', 'senza', 'noia', 'consumi', 'in', 'quello', 'stato', 'ed', 'io', 'pur', 'seggo', 'sovra', 'l', 'erbe', 'all', 'ombra', 'e', 'un', 'fastidio', 'm', 'ingombra', 'la', 'mente', 'ed', 'uno', 'spron', 'quasi', 'mi', 'punge', 's', 'che', 'sedendo', 'pi', 'che', 'mai', 'son', 'lunge', 'da', 'trovar', 'pace', 'o', 'loco', 'e', 'pur', 'nulla', 'non', 'bramo', 'e', 'non', 'ho', 'fino', 'a', 'qui', 'cagion', 'di', 'pianto', 'quel', 'che', 'tu', 'goda', 'o', 'quanto', 'non', 'so', 'gi', 'dir', 'ma', 'fortunata', 'sei', 'ed', 'io', 'godo', 'ancor', 'poco', 'o', 'greggia', 'mia', 'n', 'di', 'ci', 'sol', 'mi', 'lagno', 'se', 'tu', 'parlar', 'sapessi', 'io', 'chiederei', 'dimmi', 'perch', 'giacendo', 'a', 'bell', 'agio', 'ozioso', 's', 'appaga', 'ogni', 'animale', 'me', 's', 'io', 'giaccio', 'in', 'riposo', 'il', 'tedio', 'assale', 'forse', 's', 'avess', 'io', 'l', 'ale', 'da', 'volar', 'su', 'le', 'nubi', 'e', 'noverar', 'le', 'stelle', 'ad', 'una', 'ad', 'una', 'o', 'come', 'il', 'tuono', 'errar', 'di', 'giogo', 'in', 'giogo', 'pi', 'felice', 'sarei', 'dolce', 'mia', 'greggia', 'pi', 'felice', 'sarei', 'candida', 'luna', 'o', 'forse', 'erra', 'dal', 'vero', 'mirando', 'all', 'altrui', 'sorte', 'il', 'mio', 'pensiero', 'forse', 'in', 'qual', 'forma', 'in', 'quale', 'stato', 'che', 'sia', 'dentro', 'covile', 'o', 'cuna', 'funesto', 'a', 'chi', 'nasce', 'il', 'd', 'natale']\n"
     ]
    }
   ],
   "source": [
    "doc = nlp(text_it_sub)\n",
    "tokens_it = [token.text\n",
    "        for token in doc\n",
    "        if not token.is_space and not token.is_punct]\n",
    "print(tokens_it)"
   ]
  },
  {
   "cell_type": "markdown",
   "metadata": {},
   "source": [
    "Then, I proceed to tokenize the text: to do so I gave the command to tokenize every token that spacy could recognize in her library and only if it wasn't a sign of punctuation or a space.\n",
    "I printed the tokens, which will result to be just lowercase words, without any punctuation nor space."
   ]
  },
  {
   "cell_type": "code",
   "execution_count": 19,
   "metadata": {
    "collapsed": true,
    "jupyter": {
     "outputs_hidden": true
    },
    "tags": []
   },
   "outputs": [
    {
     "data": {
      "text/plain": [
       "[('e', 36),\n",
       " ('che', 22),\n",
       " ('il', 17),\n",
       " ('la', 15),\n",
       " ('tu', 14),\n",
       " ('in', 14),\n",
       " ('a', 14),\n",
       " ('non', 12),\n",
       " ('di', 11),\n",
       " ('o', 10),\n",
       " ('l', 10),\n",
       " ('vita', 8),\n",
       " ('io', 8),\n",
       " ('dell', 7),\n",
       " ('ed', 7),\n",
       " ('pi', 7),\n",
       " ('perch', 7),\n",
       " ('ogni', 7),\n",
       " ('luna', 6),\n",
       " ('del', 6),\n",
       " ('per', 6),\n",
       " ('s', 6),\n",
       " ('sei', 5),\n",
       " ('greggia', 5),\n",
       " ('poi', 5),\n",
       " ('al', 5),\n",
       " ('questo', 5),\n",
       " ('ma', 5),\n",
       " ('forse', 5),\n",
       " ('pastore', 4),\n",
       " ('dimmi', 4),\n",
       " ('ti', 4),\n",
       " ('ancor', 4),\n",
       " ('mio', 4),\n",
       " ('con', 4),\n",
       " ('le', 4),\n",
       " ('quando', 4),\n",
       " ('pur', 4),\n",
       " ('stato', 4),\n",
       " ('da', 4),\n",
       " ('mia', 4),\n",
       " ('un', 3),\n",
       " ('sera', 3),\n",
       " ('alla', 3),\n",
       " ('sul', 3),\n",
       " ('erbe', 3),\n",
       " ('si', 3),\n",
       " ('su', 3),\n",
       " ('altro', 3),\n",
       " ('via', 3),\n",
       " ('senza', 3),\n",
       " ('chi', 3),\n",
       " ('se', 3),\n",
       " ('dir', 3),\n",
       " ('sia', 3),\n",
       " ('della', 3),\n",
       " ('ad', 3),\n",
       " ('certo', 3),\n",
       " ('sai', 3),\n",
       " ('son', 3),\n",
       " ('me', 3),\n",
       " ('d', 3),\n",
       " ('all', 3),\n",
       " ('xxiii', 2),\n",
       " ('canto', 2),\n",
       " ('notturno', 2),\n",
       " ('errante', 2),\n",
       " ('asia', 2),\n",
       " ('fai', 2),\n",
       " ('ciel', 2),\n",
       " ('vai', 2),\n",
       " ('i', 2),\n",
       " ('posi', 2),\n",
       " ('tua', 2),\n",
       " ('mai', 2),\n",
       " ('corre', 2),\n",
       " ('posa', 2),\n",
       " ('ch', 2),\n",
       " ('dove', 2),\n",
       " ('tanto', 2),\n",
       " ('tutto', 2),\n",
       " ('tale', 2),\n",
       " ('mortale', 2),\n",
       " ('nasce', 2),\n",
       " ('cosa', 2),\n",
       " ('consolar', 2),\n",
       " ('esser', 2),\n",
       " ('uno', 2),\n",
       " ('sempre', 2),\n",
       " ('fa', 2),\n",
       " ('poco', 2),\n",
       " ('cose', 2),\n",
       " ('frutto', 2),\n",
       " ('infinito', 2),\n",
       " ('qual', 2),\n",
       " ('suo', 2),\n",
       " ('dolce', 2),\n",
       " ('mille', 2),\n",
       " ('miro', 2),\n",
       " ('cos', 2),\n",
       " ('mano', 2),\n",
       " ('stelle', 2),\n",
       " ('quel', 2),\n",
       " ('so', 2),\n",
       " ('sol', 2),\n",
       " ('quasi', 2),\n",
       " ('tedio', 2),\n",
       " ('ombra', 2),\n",
       " ('sovra', 2),\n",
       " ('mi', 2),\n",
       " ('una', 2),\n",
       " ('giogo', 2),\n",
       " ('felice', 2),\n",
       " ('sarei', 2),\n",
       " ('canti', 1),\n",
       " ('giacomo', 1),\n",
       " ('leopardi', 1),\n",
       " ('silenziosa', 1),\n",
       " ('sorgi', 1),\n",
       " ('contemplando', 1),\n",
       " ('deserti', 1),\n",
       " ('indi', 1),\n",
       " ('paga', 1),\n",
       " ('riandare', 1),\n",
       " ('sempiterni', 1),\n",
       " ('calli', 1),\n",
       " ('prendi', 1),\n",
       " ('schivo', 1),\n",
       " ('vaga', 1),\n",
       " ('mirar', 1),\n",
       " ('queste', 1),\n",
       " ('valli', 1),\n",
       " ('somiglia', 1),\n",
       " ('sorge', 1),\n",
       " ('primo', 1),\n",
       " ('albore', 1),\n",
       " ('move', 1),\n",
       " ('oltre', 1),\n",
       " ('pel', 1),\n",
       " ('campo', 1),\n",
       " ('vede', 1),\n",
       " ('greggi', 1),\n",
       " ('fontane', 1),\n",
       " ('stanco', 1),\n",
       " ('riposa', 1),\n",
       " ('ispera', 1),\n",
       " ('vale', 1),\n",
       " ('pastor', 1),\n",
       " ('sua', 1),\n",
       " ('vostra', 1),\n",
       " ('voi', 1),\n",
       " ('ove', 1),\n",
       " ('tende', 1),\n",
       " ('vagar', 1),\n",
       " ('breve', 1),\n",
       " ('tuo', 1),\n",
       " ('corso', 1),\n",
       " ('immortale', 1),\n",
       " ('vecchierel', 1),\n",
       " ('bianco', 1),\n",
       " ('infermo', 1),\n",
       " ('mezzo', 1),\n",
       " ('vestito', 1),\n",
       " ('scalzo', 1),\n",
       " ('gravissimo', 1),\n",
       " ('fascio', 1),\n",
       " ('spalle', 1),\n",
       " ('montagna', 1),\n",
       " ('valle', 1),\n",
       " ('sassi', 1),\n",
       " ('acuti', 1),\n",
       " ('alta', 1),\n",
       " ('rena', 1),\n",
       " ('fratte', 1),\n",
       " ('vento', 1),\n",
       " ('tempesta', 1),\n",
       " ('avvampa', 1),\n",
       " ('ora', 1),\n",
       " ('gela', 1),\n",
       " ('anela', 1),\n",
       " ('varca', 1),\n",
       " ('torrenti', 1),\n",
       " ('stagni', 1),\n",
       " ('cade', 1),\n",
       " ('risorge', 1),\n",
       " ('affretta', 1),\n",
       " ('ristoro', 1),\n",
       " ('lacero', 1),\n",
       " ('sanguinoso', 1),\n",
       " ('infin', 1),\n",
       " ('arriva', 1),\n",
       " ('col', 1),\n",
       " ('affaticar', 1),\n",
       " ('fu', 1),\n",
       " ('v', 1),\n",
       " ('lto', 1),\n",
       " ('abisso', 1),\n",
       " ('orrido', 1),\n",
       " ('immenso', 1),\n",
       " ('ov', 1),\n",
       " ('ei', 1),\n",
       " ('precipitando', 1),\n",
       " ('obblia', 1),\n",
       " ('vergine', 1),\n",
       " ('uomo', 1),\n",
       " ('fatica', 1),\n",
       " ('rischio', 1),\n",
       " ('morte', 1),\n",
       " ('nascimento', 1),\n",
       " ('prova', 1),\n",
       " ('pena', 1),\n",
       " ('tormento', 1),\n",
       " ('prima', 1),\n",
       " ('principio', 1),\n",
       " ('stesso', 1),\n",
       " ('madre', 1),\n",
       " ('genitore', 1),\n",
       " ('prende', 1),\n",
       " ('nato', 1),\n",
       " ('crescendo', 1),\n",
       " ('viene', 1),\n",
       " ('sostiene', 1),\n",
       " ('atti', 1),\n",
       " ('parole', 1),\n",
       " ('studiasi', 1),\n",
       " ('fargli', 1),\n",
       " ('core', 1),\n",
       " ('consolarlo', 1),\n",
       " ('umano', 1),\n",
       " ('ufficio', 1),\n",
       " ('grato', 1),\n",
       " ('parenti', 1),\n",
       " ('lor', 1),\n",
       " ('prole', 1),\n",
       " ('dare', 1),\n",
       " ('sole', 1),\n",
       " ('reggere', 1),\n",
       " ('quella', 1),\n",
       " ('convenga', 1),\n",
       " ('sventura', 1),\n",
       " ('noi', 1),\n",
       " ('dura', 1),\n",
       " ('intatta', 1),\n",
       " ('lo', 1),\n",
       " ('mortal', 1),\n",
       " ('cale', 1),\n",
       " ('solinga', 1),\n",
       " ('eterna', 1),\n",
       " ('peregrina', 1),\n",
       " ('pensosa', 1),\n",
       " ('intendi', 1),\n",
       " ('viver', 1),\n",
       " ('terreno', 1),\n",
       " ('patir', 1),\n",
       " ('nostro', 1),\n",
       " ('sospirar', 1),\n",
       " ('morir', 1),\n",
       " ('supremo', 1),\n",
       " ('scolorar', 1),\n",
       " ('sembiante', 1),\n",
       " ('perir', 1),\n",
       " ('terra', 1),\n",
       " ('venir', 1),\n",
       " ('meno', 1),\n",
       " ('usata', 1),\n",
       " ('amante', 1),\n",
       " ('compagnia', 1),\n",
       " ('comprendi', 1),\n",
       " ('delle', 1),\n",
       " ('vedi', 1),\n",
       " ('mattin', 1),\n",
       " ('tacito', 1),\n",
       " ('andar', 1),\n",
       " ('tempo', 1),\n",
       " ('amore', 1),\n",
       " ('rida', 1),\n",
       " ('primavera', 1),\n",
       " ('giovi', 1),\n",
       " ('ardore', 1),\n",
       " ('procacci', 1),\n",
       " ('verno', 1),\n",
       " ('co', 1),\n",
       " ('suoi', 1),\n",
       " ('ghiacci', 1),\n",
       " ('discopri', 1),\n",
       " ('celate', 1),\n",
       " ('semplice', 1),\n",
       " ('spesso', 1),\n",
       " ('quand', 1),\n",
       " ('star', 1),\n",
       " ('muta', 1),\n",
       " ('deserto', 1),\n",
       " ('piano', 1),\n",
       " ('giro', 1),\n",
       " ('lontano', 1),\n",
       " ('confina', 1),\n",
       " ('ovver', 1),\n",
       " ('seguirmi', 1),\n",
       " ('viaggiando', 1),\n",
       " ('cielo', 1),\n",
       " ('arder', 1),\n",
       " ('dico', 1),\n",
       " ('fra', 1),\n",
       " ('pensando', 1),\n",
       " ('tante', 1),\n",
       " ('facelle', 1),\n",
       " ('aria', 1),\n",
       " ('infinita', 1),\n",
       " ('profondo', 1),\n",
       " ('seren', 1),\n",
       " ('vuol', 1),\n",
       " ('questa', 1),\n",
       " ('solitudine', 1),\n",
       " ('immensa', 1),\n",
       " ('sono', 1),\n",
       " ('meco', 1),\n",
       " ('ragiono', 1),\n",
       " ('stanza', 1),\n",
       " ('smisurata', 1),\n",
       " ('superba', 1),\n",
       " ('innumerabile', 1),\n",
       " ('famiglia', 1),\n",
       " ('adoprar', 1),\n",
       " ('tanti', 1),\n",
       " ('moti', 1),\n",
       " ('celeste', 1),\n",
       " ('terrena', 1),\n",
       " ('girando', 1),\n",
       " ('tornar', 1),\n",
       " ('donde', 1),\n",
       " ('mosse', 1),\n",
       " ('uso', 1),\n",
       " ('alcuno', 1),\n",
       " ('alcun', 1),\n",
       " ('indovinar', 1),\n",
       " ('giovinetta', 1),\n",
       " ('immortal', 1),\n",
       " ('conosci', 1),\n",
       " ('conosco', 1),\n",
       " ('sento', 1),\n",
       " ('degli', 1),\n",
       " ('eterni', 1),\n",
       " ('giri', 1),\n",
       " ('frale', 1),\n",
       " ('qualche', 1),\n",
       " ('bene', 1),\n",
       " ('contento', 1),\n",
       " ('avr', 1),\n",
       " ('fors', 1),\n",
       " ('altri', 1),\n",
       " ('male', 1),\n",
       " ('oh', 1),\n",
       " ('te', 1),\n",
       " ('beata', 1),\n",
       " ('miseria', 1),\n",
       " ('credo', 1),\n",
       " ('quanta', 1),\n",
       " ('invidia', 1),\n",
       " ('porto', 1),\n",
       " ('affanno', 1),\n",
       " ('libera', 1),\n",
       " ('stento', 1),\n",
       " ('danno', 1),\n",
       " ('estremo', 1),\n",
       " ('timor', 1),\n",
       " ('subito', 1),\n",
       " ('scordi', 1),\n",
       " ('giammai', 1),\n",
       " ('provi', 1),\n",
       " ('siedi', 1),\n",
       " ('queta', 1),\n",
       " ('contenta', 1),\n",
       " ('gran', 1),\n",
       " ('parte', 1),\n",
       " ('anno', 1),\n",
       " ('noia', 1),\n",
       " ('consumi', 1),\n",
       " ('quello', 1),\n",
       " ('seggo', 1),\n",
       " ('fastidio', 1),\n",
       " ('m', 1),\n",
       " ('ingombra', 1),\n",
       " ('mente', 1),\n",
       " ('spron', 1),\n",
       " ('punge', 1),\n",
       " ('sedendo', 1),\n",
       " ('lunge', 1),\n",
       " ('trovar', 1),\n",
       " ('pace', 1),\n",
       " ('loco', 1),\n",
       " ('nulla', 1),\n",
       " ('bramo', 1),\n",
       " ('ho', 1),\n",
       " ('fino', 1),\n",
       " ('qui', 1),\n",
       " ('cagion', 1),\n",
       " ('pianto', 1),\n",
       " ('goda', 1),\n",
       " ('quanto', 1),\n",
       " ('gi', 1),\n",
       " ('fortunata', 1),\n",
       " ('godo', 1),\n",
       " ('n', 1),\n",
       " ('ci', 1),\n",
       " ('lagno', 1),\n",
       " ('parlar', 1),\n",
       " ('sapessi', 1),\n",
       " ('chiederei', 1),\n",
       " ('giacendo', 1),\n",
       " ('bell', 1),\n",
       " ('agio', 1),\n",
       " ('ozioso', 1),\n",
       " ('appaga', 1),\n",
       " ('animale', 1),\n",
       " ('giaccio', 1),\n",
       " ('riposo', 1),\n",
       " ('assale', 1),\n",
       " ('avess', 1),\n",
       " ('ale', 1),\n",
       " ('volar', 1),\n",
       " ('nubi', 1),\n",
       " ('noverar', 1),\n",
       " ('come', 1),\n",
       " ('tuono', 1),\n",
       " ('errar', 1),\n",
       " ('candida', 1),\n",
       " ('erra', 1),\n",
       " ('dal', 1),\n",
       " ('vero', 1),\n",
       " ('mirando', 1),\n",
       " ('altrui', 1),\n",
       " ('sorte', 1),\n",
       " ('pensiero', 1),\n",
       " ('forma', 1),\n",
       " ('quale', 1),\n",
       " ('dentro', 1),\n",
       " ('covile', 1),\n",
       " ('cuna', 1),\n",
       " ('funesto', 1),\n",
       " ('natale', 1)]"
      ]
     },
     "execution_count": 19,
     "metadata": {},
     "output_type": "execute_result"
    }
   ],
   "source": [
    "freq_tokens = Counter(tokens_it)\n",
    "freq_tokens.most_common()"
   ]
  },
  {
   "cell_type": "markdown",
   "metadata": {},
   "source": [
    "In order to see the frequency of each token in the text, I use the class Counter and order them from the most common to the least one, in this way we can see which tokens are the most frequent. "
   ]
  },
  {
   "cell_type": "code",
   "execution_count": 20,
   "metadata": {
    "tags": []
   },
   "outputs": [],
   "source": [
    "freq_it = freq_tokens.most_common()"
   ]
  },
  {
   "cell_type": "markdown",
   "metadata": {},
   "source": [
    "I assign the variable \"freq_it\" to this list of tokens and their respective frequency in the text."
   ]
  },
  {
   "cell_type": "code",
   "execution_count": 26,
   "metadata": {},
   "outputs": [
    {
     "name": "stdout",
     "output_type": "stream",
     "text": [
      "1 length: 84 words\n",
      "3 length: 130 words\n",
      "2 length: 151 words\n",
      "4 length: 114 words\n",
      "5 length: 147 words\n",
      "7 length: 62 words\n",
      "6 length: 77 words\n",
      "8 length: 36 words\n",
      "10 length: 10 words\n",
      "12 length: 3 words\n",
      "9 length: 13 words\n"
     ]
    }
   ],
   "source": [
    "dict_it = {}\n",
    "for word, frequency in freq_it:\n",
    "    length = sum(c.isalpha() for c in word)\n",
    "    if length in dict_it:\n",
    "       dict_it[length] += frequency\n",
    "    else:\n",
    "      dict_it[length] = frequency\n",
    "for length, frequency in dict_it.items():\n",
    "    print(f\"{length} length: {frequency} words\")"
   ]
  },
  {
   "cell_type": "markdown",
   "metadata": {},
   "source": [
    "One of the last steps is to create a dictionary to correlate the length of each token and the frequency for each length of the tokens in the text.\n",
    "I calculate the length of each token found in the variable \"freq_it\" summing all the alphabetic characters in each token. Then, the length was associated to the frequency of each word.    \n",
    "I take the keys (so the length of the words) and their values (their frequencies) as tuples, and print them as strings that will show the length and its corresponding frequency."
   ]
  },
  {
   "cell_type": "code",
   "execution_count": 22,
   "metadata": {
    "tags": []
   },
   "outputs": [
    {
     "name": "stdout",
     "output_type": "stream",
     "text": [
      "827\n"
     ]
    }
   ],
   "source": [
    "print(len(tokens_it))"
   ]
  },
  {
   "cell_type": "markdown",
   "metadata": {},
   "source": [
    "I print the number of tokens present in the italian poem, so that I can check the numbers shown in the dictionary. Maybe later it will be also helpful for further considerations. "
   ]
  },
  {
   "cell_type": "code",
   "execution_count": 23,
   "metadata": {},
   "outputs": [
    {
     "name": "stdout",
     "output_type": "stream",
     "text": [
      "{2: 151, 5: 147, 3: 130, 4: 114, 1: 84, 6: 77, 7: 62, 8: 36, 9: 13, 10: 10, 12: 3}\n"
     ]
    }
   ],
   "source": [
    "sorted_dict= dict(sorted(dict_it.items(), key=operator.itemgetter(1), reverse=True))\n",
    "print(sorted_dict)"
   ]
  },
  {
   "cell_type": "markdown",
   "metadata": {},
   "source": [
    "I wanted to sorted the keys of the dictionary by their values, especially from the highest to the lowest, so that we could see how many letters had the most frequent words. I did that with the reversed operator itemgetter."
   ]
  },
  {
   "cell_type": "code",
   "execution_count": 24,
   "metadata": {},
   "outputs": [],
   "source": [
    "lengths = list(sorted_dict.keys())\n",
    "frequencies = list(sorted_dict.values())"
   ]
  },
  {
   "cell_type": "markdown",
   "metadata": {},
   "source": [
    "To be able to work with the keys and the values of the dictionary that I sorted I assigned to them two separate variables (\"lengths_it\" and \"frequency_it\", corresponding respectively to the length of the word and its frequency in the text)."
   ]
  },
  {
   "cell_type": "code",
   "execution_count": 25,
   "metadata": {},
   "outputs": [
    {
     "data": {
      "image/png": "[encoded data removed]",
      "text/plain": [
       "<Figure size 1000x600 with 1 Axes>"
      ]
     },
     "metadata": {},
     "output_type": "display_data"
    }
   ],
   "source": [
    "\n",
    "plt.figure(figsize=(10,6))\n",
    "plt.bar(lengths,frequencies, color = \"#A7A5C6\")\n",
    "plt.xlabel('Length')\n",
    "plt.ylabel('Frequency')\n",
    "plt.title('Length and frequency of words in the Italian poem')\n",
    "plt.show()"
   ]
  },
  {
   "cell_type": "markdown",
   "metadata": {},
   "source": [
    "I assign the measures of 10 (lenght) and 6 (height) for the figure, in order to make it a little bit bigger than the by default size.\n",
    "To plot the bar diagram we use the function \"plot.bar\" with the variable \"lengths_it\" that will be on the X axis, and the variable \"frequencies_it\" that will be on the Y axis.\n",
    "I also give the code of the color that i want for the bars.\n",
    "I assign the labels to the two axis, so that the plot can be clearer to comprehend.\n",
    "With the function plt.title, I give the title to the plot.\n",
    "I proceed to show the diagram that I have plotted.\n"
   ]
  }
 ],
 "metadata": {
  "kernelspec": {
   "display_name": "Python 3 (ipykernel)",
   "language": "python",
   "name": "python3"
  },
  "language_info": {
   "codemirror_mode": {
    "name": "ipython",
    "version": 3
   },
   "file_extension": ".py",
   "mimetype": "text/x-python",
   "name": "python",
   "nbconvert_exporter": "python",
   "pygments_lexer": "ipython3",
   "version": "3.11.5"
  }
 },
 "nbformat": 4,
 "nbformat_minor": 4
}
